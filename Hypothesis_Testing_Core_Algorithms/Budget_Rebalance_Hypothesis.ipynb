{
 "cells": [
  {
   "cell_type": "code",
   "execution_count": 2,
   "id": "14deca92",
   "metadata": {
    "colab": {
     "base_uri": "https://localhost:8080/"
    },
    "executionInfo": {
     "elapsed": 2280,
     "status": "ok",
     "timestamp": 1628760379015,
     "user": {
      "displayName": "Shabbir Governor",
      "photoUrl": "",
      "userId": "07484134649615829018"
     },
     "user_tz": -330
    },
    "id": "14deca92",
    "outputId": "47d9c165-d61d-46ca-9df5-d969d09c428e"
   },
   "outputs": [],
   "source": [
    "import numpy as np\n",
    "import pandas as pd\n",
    "import matplotlib.pyplot as plt\n",
    "import seaborn as sns\n",
    "import warnings\n",
    "import psycopg2\n",
    "from scipy import stats\n",
    "from pylab import rcParams"
   ]
  },
  {
   "cell_type": "markdown",
   "id": "129aeba8",
   "metadata": {},
   "source": [
    "##     Alternate_Hypothesis : Mean_next_roas is greater than Mean_Same_roas\n",
    "##     Null_Hypothesis : Mean_same_roas is = or less than Mean_next_roas"
   ]
  },
  {
   "cell_type": "code",
   "execution_count": 151,
   "id": "81065bdd",
   "metadata": {},
   "outputs": [],
   "source": [
    "%matplotlib inline\n",
    "np.random.seed(8)\n",
    "warnings.filterwarnings('ignore')\n",
    "rcParams['figure.figsize'] = 20,10\n",
    "rcParams['font.size'] = 30\n",
    "sns.set()"
   ]
  },
  {
   "cell_type": "code",
   "execution_count": 152,
   "id": "be0603c8",
   "metadata": {
    "executionInfo": {
     "elapsed": 67655,
     "status": "ok",
     "timestamp": 1628761923794,
     "user": {
      "displayName": "Shabbir Governor",
      "photoUrl": "",
      "userId": "07484134649615829018"
     },
     "user_tz": -330
    },
    "id": "be0603c8"
   },
   "outputs": [],
   "source": [
    "conn = psycopg2.connect(user = \"ds_readonly\", password = \"blkbox2020!\",host = \"db.blkbox.ai\",port = \"5432\",database = \"blkbox\")\n",
    "sql = \"\"\"SELECT adaccount_id, adaccount_name, optimization_metric, goal, date, \n",
    "  (SUM(spend) / NULLIF(SUM(installs), 0)) as cpi,\n",
    "  (SUM(spend) / NULLIF(SUM(unique_purchases), 0)) as cpa,\n",
    "  (SUM(d7_purchase_value) / NULLIF(SUM(spend), 0)) as d7_roas,\n",
    "  SUM(spend) as spend\n",
    "FROM (\n",
    "  SELECT fb_adaccount.adaccount_id, fb_adaccount.adaccount_name,\n",
    "    fb_adaccount.optimization_metric, fb_campaigns.targeting as region,\n",
    "    fb_campaigns.optimization as optimization,\n",
    "    CASE \n",
    "      WHEN (COALESCE(fb_campaigns.optimization_metric, fb_adaccount.optimization_metric) = 'd7_roas') AND ((fb_adaccount.targets->>'d7_roas')::numeric) < ((entity_performance.d7_roas)::numeric) THEN 'above'\n",
    "      WHEN (COALESCE(fb_campaigns.optimization_metric, fb_adaccount.optimization_metric) = 'cpi') AND ((fb_adaccount.targets->>'cpi')::numeric)>((entity_performance.cpi)::numeric) THEN 'above'\n",
    "      WHEN (COALESCE(fb_campaigns.optimization_metric, fb_adaccount.optimization_metric) = 'cpa') AND ((fb_adaccount.targets->>'cpa')::numeric)>((entity_performance.cpa)::numeric) THEN 'above'\n",
    "    ELSE 'below' END AS goal,\n",
    "    cpa, cpi, d7_roas, d7_purchase_value, spend, installs, unique_purchases, entity_performance.date\n",
    "  FROM fb_app_ads fb_ads\n",
    "  INNER JOIN  fb_app_adaccounts fb_adaccount\n",
    "  ON fb_ads.adaccount_id=fb_adaccount.adaccount_id\n",
    "  INNER JOIN fb_app_campaigns as fb_campaigns\n",
    "  ON fb_ads.campaign_id = fb_campaigns.campaign_id\n",
    "  INNER JOIN (\n",
    "    SELECT adaccount_id, entity_id, date, CAST(metadata->>'cpa' as float) AS cpa,\n",
    "      CAST(metadata->>'cpi' as float) AS cpi,\n",
    "      CAST(metadata->>'d7_roas' AS float) AS d7_roas,\n",
    "      CAST(metadata->>'d7_purchase_value' AS float) AS d7_purchase_value,\n",
    "      CAST(metadata->>'spend' AS float) AS spend,\n",
    "      CAST(metadata->>'installs' AS float) AS installs,\n",
    "      CAST(metadata->>'unique_purchases' AS float) AS unique_purchases\n",
    "    FROM blkbox_performance_history WHERE date >= '2021-07-01'\n",
    "  ) as entity_performance\n",
    "  ON entity_performance.adaccount_id = fb_ads.adaccount_id\n",
    "  AND entity_performance.entity_id = fb_ads.ad_id \n",
    ") as info WHERE info.adaccount_id = 'act_1007332209799361'\n",
    "GROUP BY 1,2,3,4,5 ORDER BY date;\"\"\"\n",
    "data = pd.read_sql_query(sql, conn)\n",
    "conn = None\n"
   ]
  },
  {
   "cell_type": "code",
   "execution_count": 153,
   "id": "6aed2209",
   "metadata": {},
   "outputs": [
    {
     "name": "stdout",
     "output_type": "stream",
     "text": [
      "           adaccount_id  adaccount_name optimization_metric   goal  \\\n",
      "0  act_1007332209799361  Medal: ANDROID           retention  below   \n",
      "1  act_1007332209799361  Medal: ANDROID           retention  below   \n",
      "2  act_1007332209799361  Medal: ANDROID           retention  below   \n",
      "3  act_1007332209799361  Medal: ANDROID           retention  below   \n",
      "4  act_1007332209799361  Medal: ANDROID           retention  below   \n",
      "\n",
      "         date       cpi   cpa  d7_roas   spend  \n",
      "0  2021-07-01  1.334732  None      0.0  1272.0  \n",
      "1  2021-07-02  1.179676  None      0.0   801.0  \n",
      "2  2021-07-03  1.202454  None      0.0   784.0  \n",
      "3  2021-07-04  1.191729  None      0.0   951.0  \n",
      "4  2021-07-05  1.157303  None      0.0   721.0  \n",
      "\n",
      "(66, 9)\n"
     ]
    }
   ],
   "source": [
    "print(data.head())\n",
    "print()\n",
    "print(data.shape)"
   ]
  },
  {
   "cell_type": "code",
   "execution_count": 162,
   "id": "bpDmvmvys6_T",
   "metadata": {
    "executionInfo": {
     "elapsed": 5919,
     "status": "ok",
     "timestamp": 1628761962250,
     "user": {
      "displayName": "Shabbir Governor",
      "photoUrl": "",
      "userId": "07484134649615829018"
     },
     "user_tz": -330
    },
    "id": "bpDmvmvys6_T"
   },
   "outputs": [],
   "source": [
    "data.to_csv(\"data.csv\",index= False)"
   ]
  },
  {
   "cell_type": "code",
   "execution_count": 3,
   "id": "TQbi_Sijs9pj",
   "metadata": {
    "executionInfo": {
     "elapsed": 1615,
     "status": "ok",
     "timestamp": 1628761967396,
     "user": {
      "displayName": "Shabbir Governor",
      "photoUrl": "",
      "userId": "07484134649615829018"
     },
     "user_tz": -330
    },
    "id": "TQbi_Sijs9pj"
   },
   "outputs": [],
   "source": [
    "data = pd.read_csv(\"data.csv\")"
   ]
  },
  {
   "cell_type": "code",
   "execution_count": 4,
   "id": "64a8c488",
   "metadata": {},
   "outputs": [
    {
     "data": {
      "text/html": [
       "<div>\n",
       "<style scoped>\n",
       "    .dataframe tbody tr th:only-of-type {\n",
       "        vertical-align: middle;\n",
       "    }\n",
       "\n",
       "    .dataframe tbody tr th {\n",
       "        vertical-align: top;\n",
       "    }\n",
       "\n",
       "    .dataframe thead th {\n",
       "        text-align: right;\n",
       "    }\n",
       "</style>\n",
       "<table border=\"1\" class=\"dataframe\">\n",
       "  <thead>\n",
       "    <tr style=\"text-align: right;\">\n",
       "      <th></th>\n",
       "      <th>adaccount_id</th>\n",
       "      <th>adaccount_name</th>\n",
       "      <th>optimization_metric</th>\n",
       "      <th>goal</th>\n",
       "      <th>date</th>\n",
       "      <th>cpi</th>\n",
       "      <th>cpa</th>\n",
       "      <th>d7_roas</th>\n",
       "      <th>spend</th>\n",
       "    </tr>\n",
       "  </thead>\n",
       "  <tbody>\n",
       "    <tr>\n",
       "      <th>0</th>\n",
       "      <td>act_1007332209799361</td>\n",
       "      <td>Medal: ANDROID</td>\n",
       "      <td>retention</td>\n",
       "      <td>below</td>\n",
       "      <td>2021-07-01</td>\n",
       "      <td>1.334732</td>\n",
       "      <td>NaN</td>\n",
       "      <td>0.0</td>\n",
       "      <td>1272.0</td>\n",
       "    </tr>\n",
       "    <tr>\n",
       "      <th>1</th>\n",
       "      <td>act_1007332209799361</td>\n",
       "      <td>Medal: ANDROID</td>\n",
       "      <td>retention</td>\n",
       "      <td>below</td>\n",
       "      <td>2021-07-02</td>\n",
       "      <td>1.179676</td>\n",
       "      <td>NaN</td>\n",
       "      <td>0.0</td>\n",
       "      <td>801.0</td>\n",
       "    </tr>\n",
       "    <tr>\n",
       "      <th>2</th>\n",
       "      <td>act_1007332209799361</td>\n",
       "      <td>Medal: ANDROID</td>\n",
       "      <td>retention</td>\n",
       "      <td>below</td>\n",
       "      <td>2021-07-03</td>\n",
       "      <td>1.202454</td>\n",
       "      <td>NaN</td>\n",
       "      <td>0.0</td>\n",
       "      <td>784.0</td>\n",
       "    </tr>\n",
       "    <tr>\n",
       "      <th>3</th>\n",
       "      <td>act_1007332209799361</td>\n",
       "      <td>Medal: ANDROID</td>\n",
       "      <td>retention</td>\n",
       "      <td>below</td>\n",
       "      <td>2021-07-04</td>\n",
       "      <td>1.191729</td>\n",
       "      <td>NaN</td>\n",
       "      <td>0.0</td>\n",
       "      <td>951.0</td>\n",
       "    </tr>\n",
       "    <tr>\n",
       "      <th>4</th>\n",
       "      <td>act_1007332209799361</td>\n",
       "      <td>Medal: ANDROID</td>\n",
       "      <td>retention</td>\n",
       "      <td>below</td>\n",
       "      <td>2021-07-05</td>\n",
       "      <td>1.157303</td>\n",
       "      <td>NaN</td>\n",
       "      <td>0.0</td>\n",
       "      <td>721.0</td>\n",
       "    </tr>\n",
       "  </tbody>\n",
       "</table>\n",
       "</div>"
      ],
      "text/plain": [
       "           adaccount_id  adaccount_name optimization_metric   goal  \\\n",
       "0  act_1007332209799361  Medal: ANDROID           retention  below   \n",
       "1  act_1007332209799361  Medal: ANDROID           retention  below   \n",
       "2  act_1007332209799361  Medal: ANDROID           retention  below   \n",
       "3  act_1007332209799361  Medal: ANDROID           retention  below   \n",
       "4  act_1007332209799361  Medal: ANDROID           retention  below   \n",
       "\n",
       "         date       cpi  cpa  d7_roas   spend  \n",
       "0  2021-07-01  1.334732  NaN      0.0  1272.0  \n",
       "1  2021-07-02  1.179676  NaN      0.0   801.0  \n",
       "2  2021-07-03  1.202454  NaN      0.0   784.0  \n",
       "3  2021-07-04  1.191729  NaN      0.0   951.0  \n",
       "4  2021-07-05  1.157303  NaN      0.0   721.0  "
      ]
     },
     "execution_count": 4,
     "metadata": {},
     "output_type": "execute_result"
    }
   ],
   "source": [
    "data.head()"
   ]
  },
  {
   "cell_type": "code",
   "execution_count": 5,
   "id": "529b007b",
   "metadata": {},
   "outputs": [
    {
     "name": "stderr",
     "output_type": "stream",
     "text": [
      "/opt/anaconda3/lib/python3.8/site-packages/pandas/core/series.py:4138: FutureWarning: DateOffset.__call__ is deprecated and will be removed in a future version.  Use `offset + other` instead.\n",
      "  mapped = lib.map_infer(values, f, convert=convert_dtype)\n",
      "<ipython-input-5-2878410c16df>:3: SettingWithCopyWarning: \n",
      "A value is trying to be set on a copy of a slice from a DataFrame.\n",
      "Try using .loc[row_indexer,col_indexer] = value instead\n",
      "\n",
      "See the caveats in the documentation: https://pandas.pydata.org/pandas-docs/stable/user_guide/indexing.html#returning-a-view-versus-a-copy\n",
      "  data_above['date'] = pd.to_datetime(data_above['date']).apply(pd.DateOffset(-1))\n",
      "<ipython-input-5-2878410c16df>:4: SettingWithCopyWarning: \n",
      "A value is trying to be set on a copy of a slice from a DataFrame.\n",
      "Try using .loc[row_indexer,col_indexer] = value instead\n",
      "\n",
      "See the caveats in the documentation: https://pandas.pydata.org/pandas-docs/stable/user_guide/indexing.html#returning-a-view-versus-a-copy\n",
      "  data_above['date'] = data_above['date'].astype(str)\n"
     ]
    }
   ],
   "source": [
    "data_below = data[(data['goal'] == 'above')]\n",
    "data_above = data[(data['goal'] == 'above')]\n",
    "data_above['date'] = pd.to_datetime(data_above['date']).apply(pd.DateOffset(-1))\n",
    "data_above['date'] = data_above['date'].astype(str)"
   ]
  },
  {
   "cell_type": "code",
   "execution_count": 6,
   "id": "72bee589",
   "metadata": {},
   "outputs": [
    {
     "data": {
      "text/html": [
       "<div>\n",
       "<style scoped>\n",
       "    .dataframe tbody tr th:only-of-type {\n",
       "        vertical-align: middle;\n",
       "    }\n",
       "\n",
       "    .dataframe tbody tr th {\n",
       "        vertical-align: top;\n",
       "    }\n",
       "\n",
       "    .dataframe thead th {\n",
       "        text-align: right;\n",
       "    }\n",
       "</style>\n",
       "<table border=\"1\" class=\"dataframe\">\n",
       "  <thead>\n",
       "    <tr style=\"text-align: right;\">\n",
       "      <th></th>\n",
       "      <th>adaccount_id</th>\n",
       "      <th>adaccount_name</th>\n",
       "      <th>optimization_metric</th>\n",
       "      <th>goal</th>\n",
       "      <th>date</th>\n",
       "      <th>cpi</th>\n",
       "      <th>cpa</th>\n",
       "      <th>d7_roas</th>\n",
       "      <th>spend</th>\n",
       "    </tr>\n",
       "  </thead>\n",
       "  <tbody>\n",
       "    <tr>\n",
       "      <th>9</th>\n",
       "      <td>act_1007332209799361</td>\n",
       "      <td>Medal: ANDROID</td>\n",
       "      <td>retention</td>\n",
       "      <td>above</td>\n",
       "      <td>2021-07-10</td>\n",
       "      <td>0.800479</td>\n",
       "      <td>NaN</td>\n",
       "      <td>0.0</td>\n",
       "      <td>1003.0</td>\n",
       "    </tr>\n",
       "    <tr>\n",
       "      <th>11</th>\n",
       "      <td>act_1007332209799361</td>\n",
       "      <td>Medal: ANDROID</td>\n",
       "      <td>retention</td>\n",
       "      <td>above</td>\n",
       "      <td>2021-07-11</td>\n",
       "      <td>0.448402</td>\n",
       "      <td>NaN</td>\n",
       "      <td>0.0</td>\n",
       "      <td>1221.0</td>\n",
       "    </tr>\n",
       "    <tr>\n",
       "      <th>13</th>\n",
       "      <td>act_1007332209799361</td>\n",
       "      <td>Medal: ANDROID</td>\n",
       "      <td>retention</td>\n",
       "      <td>above</td>\n",
       "      <td>2021-07-12</td>\n",
       "      <td>0.538399</td>\n",
       "      <td>NaN</td>\n",
       "      <td>0.0</td>\n",
       "      <td>1325.0</td>\n",
       "    </tr>\n",
       "    <tr>\n",
       "      <th>15</th>\n",
       "      <td>act_1007332209799361</td>\n",
       "      <td>Medal: ANDROID</td>\n",
       "      <td>retention</td>\n",
       "      <td>above</td>\n",
       "      <td>2021-07-13</td>\n",
       "      <td>0.527037</td>\n",
       "      <td>NaN</td>\n",
       "      <td>0.0</td>\n",
       "      <td>731.0</td>\n",
       "    </tr>\n",
       "    <tr>\n",
       "      <th>17</th>\n",
       "      <td>act_1007332209799361</td>\n",
       "      <td>Medal: ANDROID</td>\n",
       "      <td>retention</td>\n",
       "      <td>above</td>\n",
       "      <td>2021-07-14</td>\n",
       "      <td>0.503597</td>\n",
       "      <td>NaN</td>\n",
       "      <td>0.0</td>\n",
       "      <td>560.0</td>\n",
       "    </tr>\n",
       "  </tbody>\n",
       "</table>\n",
       "</div>"
      ],
      "text/plain": [
       "            adaccount_id  adaccount_name optimization_metric   goal  \\\n",
       "9   act_1007332209799361  Medal: ANDROID           retention  above   \n",
       "11  act_1007332209799361  Medal: ANDROID           retention  above   \n",
       "13  act_1007332209799361  Medal: ANDROID           retention  above   \n",
       "15  act_1007332209799361  Medal: ANDROID           retention  above   \n",
       "17  act_1007332209799361  Medal: ANDROID           retention  above   \n",
       "\n",
       "          date       cpi  cpa  d7_roas   spend  \n",
       "9   2021-07-10  0.800479  NaN      0.0  1003.0  \n",
       "11  2021-07-11  0.448402  NaN      0.0  1221.0  \n",
       "13  2021-07-12  0.538399  NaN      0.0  1325.0  \n",
       "15  2021-07-13  0.527037  NaN      0.0   731.0  \n",
       "17  2021-07-14  0.503597  NaN      0.0   560.0  "
      ]
     },
     "execution_count": 6,
     "metadata": {},
     "output_type": "execute_result"
    }
   ],
   "source": [
    "data_below.head()"
   ]
  },
  {
   "cell_type": "code",
   "execution_count": 7,
   "id": "2cfec028",
   "metadata": {},
   "outputs": [
    {
     "data": {
      "text/html": [
       "<div>\n",
       "<style scoped>\n",
       "    .dataframe tbody tr th:only-of-type {\n",
       "        vertical-align: middle;\n",
       "    }\n",
       "\n",
       "    .dataframe tbody tr th {\n",
       "        vertical-align: top;\n",
       "    }\n",
       "\n",
       "    .dataframe thead th {\n",
       "        text-align: right;\n",
       "    }\n",
       "</style>\n",
       "<table border=\"1\" class=\"dataframe\">\n",
       "  <thead>\n",
       "    <tr style=\"text-align: right;\">\n",
       "      <th></th>\n",
       "      <th>adaccount_id</th>\n",
       "      <th>adaccount_name</th>\n",
       "      <th>optimization_metric</th>\n",
       "      <th>goal</th>\n",
       "      <th>date</th>\n",
       "      <th>cpi</th>\n",
       "      <th>cpa</th>\n",
       "      <th>d7_roas</th>\n",
       "      <th>spend</th>\n",
       "    </tr>\n",
       "  </thead>\n",
       "  <tbody>\n",
       "    <tr>\n",
       "      <th>9</th>\n",
       "      <td>act_1007332209799361</td>\n",
       "      <td>Medal: ANDROID</td>\n",
       "      <td>retention</td>\n",
       "      <td>above</td>\n",
       "      <td>2021-07-09</td>\n",
       "      <td>0.800479</td>\n",
       "      <td>NaN</td>\n",
       "      <td>0.0</td>\n",
       "      <td>1003.0</td>\n",
       "    </tr>\n",
       "    <tr>\n",
       "      <th>11</th>\n",
       "      <td>act_1007332209799361</td>\n",
       "      <td>Medal: ANDROID</td>\n",
       "      <td>retention</td>\n",
       "      <td>above</td>\n",
       "      <td>2021-07-10</td>\n",
       "      <td>0.448402</td>\n",
       "      <td>NaN</td>\n",
       "      <td>0.0</td>\n",
       "      <td>1221.0</td>\n",
       "    </tr>\n",
       "    <tr>\n",
       "      <th>13</th>\n",
       "      <td>act_1007332209799361</td>\n",
       "      <td>Medal: ANDROID</td>\n",
       "      <td>retention</td>\n",
       "      <td>above</td>\n",
       "      <td>2021-07-11</td>\n",
       "      <td>0.538399</td>\n",
       "      <td>NaN</td>\n",
       "      <td>0.0</td>\n",
       "      <td>1325.0</td>\n",
       "    </tr>\n",
       "    <tr>\n",
       "      <th>15</th>\n",
       "      <td>act_1007332209799361</td>\n",
       "      <td>Medal: ANDROID</td>\n",
       "      <td>retention</td>\n",
       "      <td>above</td>\n",
       "      <td>2021-07-12</td>\n",
       "      <td>0.527037</td>\n",
       "      <td>NaN</td>\n",
       "      <td>0.0</td>\n",
       "      <td>731.0</td>\n",
       "    </tr>\n",
       "    <tr>\n",
       "      <th>17</th>\n",
       "      <td>act_1007332209799361</td>\n",
       "      <td>Medal: ANDROID</td>\n",
       "      <td>retention</td>\n",
       "      <td>above</td>\n",
       "      <td>2021-07-13</td>\n",
       "      <td>0.503597</td>\n",
       "      <td>NaN</td>\n",
       "      <td>0.0</td>\n",
       "      <td>560.0</td>\n",
       "    </tr>\n",
       "  </tbody>\n",
       "</table>\n",
       "</div>"
      ],
      "text/plain": [
       "            adaccount_id  adaccount_name optimization_metric   goal  \\\n",
       "9   act_1007332209799361  Medal: ANDROID           retention  above   \n",
       "11  act_1007332209799361  Medal: ANDROID           retention  above   \n",
       "13  act_1007332209799361  Medal: ANDROID           retention  above   \n",
       "15  act_1007332209799361  Medal: ANDROID           retention  above   \n",
       "17  act_1007332209799361  Medal: ANDROID           retention  above   \n",
       "\n",
       "          date       cpi  cpa  d7_roas   spend  \n",
       "9   2021-07-09  0.800479  NaN      0.0  1003.0  \n",
       "11  2021-07-10  0.448402  NaN      0.0  1221.0  \n",
       "13  2021-07-11  0.538399  NaN      0.0  1325.0  \n",
       "15  2021-07-12  0.527037  NaN      0.0   731.0  \n",
       "17  2021-07-13  0.503597  NaN      0.0   560.0  "
      ]
     },
     "execution_count": 7,
     "metadata": {},
     "output_type": "execute_result"
    }
   ],
   "source": [
    "data_above.head()"
   ]
  },
  {
   "cell_type": "code",
   "execution_count": 8,
   "id": "d6afdb00",
   "metadata": {},
   "outputs": [
    {
     "data": {
      "text/plain": [
       "adaccount_id            object\n",
       "adaccount_name          object\n",
       "optimization_metric     object\n",
       "goal                    object\n",
       "date                    object\n",
       "cpi                    float64\n",
       "cpa                    float64\n",
       "d7_roas                float64\n",
       "spend                  float64\n",
       "dtype: object"
      ]
     },
     "execution_count": 8,
     "metadata": {},
     "output_type": "execute_result"
    }
   ],
   "source": [
    "data_above.dtypes"
   ]
  },
  {
   "cell_type": "code",
   "execution_count": 9,
   "id": "ca507a08",
   "metadata": {},
   "outputs": [
    {
     "data": {
      "text/html": [
       "<div>\n",
       "<style scoped>\n",
       "    .dataframe tbody tr th:only-of-type {\n",
       "        vertical-align: middle;\n",
       "    }\n",
       "\n",
       "    .dataframe tbody tr th {\n",
       "        vertical-align: top;\n",
       "    }\n",
       "\n",
       "    .dataframe thead th {\n",
       "        text-align: right;\n",
       "    }\n",
       "</style>\n",
       "<table border=\"1\" class=\"dataframe\">\n",
       "  <thead>\n",
       "    <tr style=\"text-align: right;\">\n",
       "      <th></th>\n",
       "      <th>spend_x</th>\n",
       "      <th>spend_y</th>\n",
       "      <th>total_spend</th>\n",
       "      <th>spend_x_per</th>\n",
       "      <th>spend_y_per</th>\n",
       "    </tr>\n",
       "  </thead>\n",
       "  <tbody>\n",
       "    <tr>\n",
       "      <th>0</th>\n",
       "      <td>1003.0</td>\n",
       "      <td>1221.0</td>\n",
       "      <td>2224.0</td>\n",
       "      <td>45.098921</td>\n",
       "      <td>54.901079</td>\n",
       "    </tr>\n",
       "    <tr>\n",
       "      <th>1</th>\n",
       "      <td>1221.0</td>\n",
       "      <td>1325.0</td>\n",
       "      <td>2546.0</td>\n",
       "      <td>47.957581</td>\n",
       "      <td>52.042419</td>\n",
       "    </tr>\n",
       "    <tr>\n",
       "      <th>2</th>\n",
       "      <td>1325.0</td>\n",
       "      <td>731.0</td>\n",
       "      <td>2056.0</td>\n",
       "      <td>64.445525</td>\n",
       "      <td>35.554475</td>\n",
       "    </tr>\n",
       "    <tr>\n",
       "      <th>3</th>\n",
       "      <td>731.0</td>\n",
       "      <td>560.0</td>\n",
       "      <td>1291.0</td>\n",
       "      <td>56.622773</td>\n",
       "      <td>43.377227</td>\n",
       "    </tr>\n",
       "    <tr>\n",
       "      <th>4</th>\n",
       "      <td>560.0</td>\n",
       "      <td>614.0</td>\n",
       "      <td>1174.0</td>\n",
       "      <td>47.700170</td>\n",
       "      <td>52.299830</td>\n",
       "    </tr>\n",
       "  </tbody>\n",
       "</table>\n",
       "</div>"
      ],
      "text/plain": [
       "   spend_x  spend_y  total_spend  spend_x_per  spend_y_per\n",
       "0   1003.0   1221.0       2224.0    45.098921    54.901079\n",
       "1   1221.0   1325.0       2546.0    47.957581    52.042419\n",
       "2   1325.0    731.0       2056.0    64.445525    35.554475\n",
       "3    731.0    560.0       1291.0    56.622773    43.377227\n",
       "4    560.0    614.0       1174.0    47.700170    52.299830"
      ]
     },
     "execution_count": 9,
     "metadata": {},
     "output_type": "execute_result"
    }
   ],
   "source": [
    "res = pd.merge(data_below, data_above, on='date')\n",
    "res = res[['spend_x','spend_y']]\n",
    "res['total_spend'] = res['spend_x'] + res['spend_y']\n",
    "res['spend_x_per'] = res['spend_x'] / res['total_spend'] * 100\n",
    "res['spend_y_per'] = res['spend_y'] / res['total_spend'] * 100\n",
    "\n",
    "\n",
    "res.head()"
   ]
  },
  {
   "cell_type": "code",
   "execution_count": 10,
   "id": "c56e4dc5",
   "metadata": {},
   "outputs": [],
   "source": [
    "def plot_distribution(inp):\n",
    "    plt.figure()\n",
    "    ax = sns.distplot(inp)\n",
    "    plt.axvline(np.mean(inp), color = 'k', linestyle='dashed',linewidth=5)\n",
    "    _, max_ = plt.ylim()\n",
    "    plt.text(\n",
    "        inp.mean() + inp.mean() /10,\n",
    "        max_ - max_ /10,\n",
    "        \"Mean: {:.2f}\".format(inp.mean()),\n",
    "    )\n",
    "    return plt.figure"
   ]
  },
  {
   "cell_type": "code",
   "execution_count": 11,
   "id": "c251b961",
   "metadata": {
    "colab": {
     "base_uri": "https://localhost:8080/",
     "height": 300
    },
    "executionInfo": {
     "elapsed": 495,
     "status": "ok",
     "timestamp": 1628762042216,
     "user": {
      "displayName": "Shabbir Governor",
      "photoUrl": "",
      "userId": "07484134649615829018"
     },
     "user_tz": -330
    },
    "id": "c251b961",
    "outputId": "3d7f032a-a112-4cdb-cc70-27c4e44900b0"
   },
   "outputs": [
    {
     "data": {
      "text/html": [
       "<div>\n",
       "<style scoped>\n",
       "    .dataframe tbody tr th:only-of-type {\n",
       "        vertical-align: middle;\n",
       "    }\n",
       "\n",
       "    .dataframe tbody tr th {\n",
       "        vertical-align: top;\n",
       "    }\n",
       "\n",
       "    .dataframe thead th {\n",
       "        text-align: right;\n",
       "    }\n",
       "</style>\n",
       "<table border=\"1\" class=\"dataframe\">\n",
       "  <thead>\n",
       "    <tr style=\"text-align: right;\">\n",
       "      <th></th>\n",
       "      <th>spend_x_per</th>\n",
       "      <th>spend_y_per</th>\n",
       "    </tr>\n",
       "  </thead>\n",
       "  <tbody>\n",
       "    <tr>\n",
       "      <th>count</th>\n",
       "      <td>25.000000</td>\n",
       "      <td>25.000000</td>\n",
       "    </tr>\n",
       "    <tr>\n",
       "      <th>mean</th>\n",
       "      <td>50.922945</td>\n",
       "      <td>49.077055</td>\n",
       "    </tr>\n",
       "    <tr>\n",
       "      <th>std</th>\n",
       "      <td>4.161196</td>\n",
       "      <td>4.161196</td>\n",
       "    </tr>\n",
       "    <tr>\n",
       "      <th>min</th>\n",
       "      <td>45.098921</td>\n",
       "      <td>35.554475</td>\n",
       "    </tr>\n",
       "    <tr>\n",
       "      <th>25%</th>\n",
       "      <td>47.957581</td>\n",
       "      <td>46.991037</td>\n",
       "    </tr>\n",
       "    <tr>\n",
       "      <th>50%</th>\n",
       "      <td>50.941029</td>\n",
       "      <td>49.058971</td>\n",
       "    </tr>\n",
       "    <tr>\n",
       "      <th>75%</th>\n",
       "      <td>53.008963</td>\n",
       "      <td>52.042419</td>\n",
       "    </tr>\n",
       "    <tr>\n",
       "      <th>max</th>\n",
       "      <td>64.445525</td>\n",
       "      <td>54.901079</td>\n",
       "    </tr>\n",
       "  </tbody>\n",
       "</table>\n",
       "</div>"
      ],
      "text/plain": [
       "       spend_x_per  spend_y_per\n",
       "count    25.000000    25.000000\n",
       "mean     50.922945    49.077055\n",
       "std       4.161196     4.161196\n",
       "min      45.098921    35.554475\n",
       "25%      47.957581    46.991037\n",
       "50%      50.941029    49.058971\n",
       "75%      53.008963    52.042419\n",
       "max      64.445525    54.901079"
      ]
     },
     "execution_count": 11,
     "metadata": {},
     "output_type": "execute_result"
    }
   ],
   "source": [
    "res[['spend_x_per','spend_y_per']].describe()"
   ]
  },
  {
   "cell_type": "code",
   "execution_count": 12,
   "id": "df9a66ca",
   "metadata": {
    "executionInfo": {
     "elapsed": 487,
     "status": "ok",
     "timestamp": 1628762110024,
     "user": {
      "displayName": "Shabbir Governor",
      "photoUrl": "",
      "userId": "07484134649615829018"
     },
     "user_tz": -330
    },
    "id": "df9a66ca"
   },
   "outputs": [],
   "source": [
    "spend_x = np.array(res['spend_x_per'])\n",
    "spend_x = [x for x in spend_x if str(x) != 'nan']\n",
    "spend_y = np.array(res['spend_y_per'])\n",
    "spend_y = [x for x in spend_y if str(x) != 'nan']\n"
   ]
  },
  {
   "cell_type": "code",
   "execution_count": 13,
   "id": "c4b374e1",
   "metadata": {
    "colab": {
     "base_uri": "https://localhost:8080/"
    },
    "executionInfo": {
     "elapsed": 513,
     "status": "ok",
     "timestamp": 1628762122546,
     "user": {
      "displayName": "Shabbir Governor",
      "photoUrl": "",
      "userId": "07484134649615829018"
     },
     "user_tz": -330
    },
    "id": "c4b374e1",
    "outputId": "6b951441-671b-4256-f894-bf830f219d3b"
   },
   "outputs": [
    {
     "name": "stderr",
     "output_type": "stream",
     "text": [
      "/opt/anaconda3/lib/python3.8/site-packages/seaborn/distributions.py:2557: FutureWarning: `distplot` is a deprecated function and will be removed in a future version. Please adapt your code to use either `displot` (a figure-level function with similar flexibility) or `histplot` (an axes-level function for histograms).\n",
      "  warnings.warn(msg, FutureWarning)\n"
     ]
    },
    {
     "data": {
      "text/plain": [
       "<function matplotlib.pyplot.figure(num=None, figsize=None, dpi=None, facecolor=None, edgecolor=None, frameon=True, FigureClass=<class 'matplotlib.figure.Figure'>, clear=False, **kwargs)>"
      ]
     },
     "execution_count": 13,
     "metadata": {},
     "output_type": "execute_result"
    },
    {
     "data": {
      "image/png": "[encoded data removed]",
      "text/plain": [
       "<Figure size 432x288 with 1 Axes>"
      ]
     },
     "metadata": {
      "needs_background": "light"
     },
     "output_type": "display_data"
    }
   ],
   "source": [
    "plot_distribution(np.array(spend_x))"
   ]
  },
  {
   "cell_type": "code",
   "execution_count": 14,
   "id": "22248437",
   "metadata": {
    "colab": {
     "base_uri": "https://localhost:8080/"
    },
    "executionInfo": {
     "elapsed": 569,
     "status": "ok",
     "timestamp": 1628762137564,
     "user": {
      "displayName": "Shabbir Governor",
      "photoUrl": "",
      "userId": "07484134649615829018"
     },
     "user_tz": -330
    },
    "id": "22248437",
    "outputId": "018885a8-3492-4f2a-9d42-9d0cbd460e3e"
   },
   "outputs": [
    {
     "name": "stderr",
     "output_type": "stream",
     "text": [
      "/opt/anaconda3/lib/python3.8/site-packages/seaborn/distributions.py:2557: FutureWarning: `distplot` is a deprecated function and will be removed in a future version. Please adapt your code to use either `displot` (a figure-level function with similar flexibility) or `histplot` (an axes-level function for histograms).\n",
      "  warnings.warn(msg, FutureWarning)\n"
     ]
    },
    {
     "data": {
      "text/plain": [
       "<function matplotlib.pyplot.figure(num=None, figsize=None, dpi=None, facecolor=None, edgecolor=None, frameon=True, FigureClass=<class 'matplotlib.figure.Figure'>, clear=False, **kwargs)>"
      ]
     },
     "execution_count": 14,
     "metadata": {},
     "output_type": "execute_result"
    },
    {
     "data": {
      "image/png": "[encoded data removed]",
      "text/plain": [
       "<Figure size 432x288 with 1 Axes>"
      ]
     },
     "metadata": {
      "needs_background": "light"
     },
     "output_type": "display_data"
    }
   ],
   "source": [
    "plot_distribution(np.array(spend_y))"
   ]
  },
  {
   "cell_type": "code",
   "execution_count": 15,
   "id": "7857dc8c",
   "metadata": {},
   "outputs": [
    {
     "name": "stderr",
     "output_type": "stream",
     "text": [
      "/opt/anaconda3/lib/python3.8/site-packages/seaborn/distributions.py:2557: FutureWarning: `distplot` is a deprecated function and will be removed in a future version. Please adapt your code to use either `displot` (a figure-level function with similar flexibility) or `histplot` (an axes-level function for histograms).\n",
      "  warnings.warn(msg, FutureWarning)\n",
      "/opt/anaconda3/lib/python3.8/site-packages/seaborn/distributions.py:2557: FutureWarning: `distplot` is a deprecated function and will be removed in a future version. Please adapt your code to use either `displot` (a figure-level function with similar flexibility) or `histplot` (an axes-level function for histograms).\n",
      "  warnings.warn(msg, FutureWarning)\n"
     ]
    },
    {
     "data": {
      "text/plain": [
       "<matplotlib.lines.Line2D at 0x7faa90a360a0>"
      ]
     },
     "execution_count": 15,
     "metadata": {},
     "output_type": "execute_result"
    },
    {
     "data": {
      "image/png": "[encoded data removed]",
      "text/plain": [
       "<Figure size 432x288 with 1 Axes>"
      ]
     },
     "metadata": {
      "needs_background": "light"
     },
     "output_type": "display_data"
    }
   ],
   "source": [
    "plt.figure()\n",
    "ax1 = sns.distplot(spend_x)\n",
    "ax2 = sns.distplot(spend_y)\n",
    "plt.axvline(np.mean(spend_x),color = 'b', linestyle='dashed',linewidth=5)\n",
    "plt.axvline(np.mean(spend_y),color = 'orange', linestyle='dashed',linewidth=5)"
   ]
  },
  {
   "cell_type": "code",
   "execution_count": 16,
   "id": "30d200cb",
   "metadata": {},
   "outputs": [],
   "source": [
    "def compare(arr1,arr2,alpha,sample_size):\n",
    "    stat,p_value = stats.ttest_ind(arr1, arr2, alternative = 'greater')\n",
    "    print('Statistic:',stat)\n",
    "    print('p_value:',p_value)\n",
    "    if p_value < alpha:\n",
    "        print(\"Null Hypothesis Rejected\")\n",
    "        print(\"Mean_same_spend is = or less than Mean_next_spend\")  \n",
    "    else:\n",
    "        print(\"Alternate Accepted\")\n",
    "        print(\"Percent_Mean spend on performing campaigns is greater by Budget_Rebalance\")\n",
    "        "
   ]
  },
  {
   "cell_type": "code",
   "execution_count": 17,
   "id": "50ec2fcf",
   "metadata": {
    "colab": {
     "base_uri": "https://localhost:8080/"
    },
    "executionInfo": {
     "elapsed": 786,
     "status": "ok",
     "timestamp": 1628762175140,
     "user": {
      "displayName": "Shabbir Governor",
      "photoUrl": "",
      "userId": "07484134649615829018"
     },
     "user_tz": -330
    },
    "id": "50ec2fcf",
    "outputId": "9a501e2c-e71e-47e4-ca26-d7585735b811"
   },
   "outputs": [
    {
     "name": "stdout",
     "output_type": "stream",
     "text": [
      "[51, 48, 64, 50, 52, 48, 51, 50, 53, 53, 50, 47, 50, 52, 47, 45, 50, 47, 48, 49, 51, 51, 51, 48, 48]\n",
      "[46, 52, 52, 48, 35, 48, 52, 47, 49, 49, 48, 46, 52, 53, 50, 48, 51, 44, 46, 52, 49, 48, 52, 51, 53]\n",
      "Statistic: 1.2675131651392468\n",
      "p_value: 0.1055432754114667\n",
      "Alternate Accepted\n",
      "Percent_Mean spend on performing campaigns is greater by Budget_Rebalance\n"
     ]
    }
   ],
   "source": [
    "sample_size = 25\n",
    "previous_sample = np.random.choice(np.array(spend_x),sample_size)\n",
    "previous_sample = [int(i) for i in previous_sample]\n",
    "print(previous_sample)\n",
    "next_sample = np.random.choice(np.array(spend_y),sample_size)\n",
    "next_sample = [int(i) for i in next_sample]\n",
    "print(next_sample)\n",
    "compare(previous_sample,next_sample,0.02,sample_size) "
   ]
  },
  {
   "cell_type": "markdown",
   "id": "9006cd88",
   "metadata": {
    "colab": {
     "base_uri": "https://localhost:8080/",
     "height": 167
    },
    "executionInfo": {
     "elapsed": 5,
     "status": "error",
     "timestamp": 1628762477632,
     "user": {
      "displayName": "Shabbir Governor",
      "photoUrl": "",
      "userId": "07484134649615829018"
     },
     "user_tz": -330
    },
    "id": "9770c328",
    "outputId": "2100e241-6243-43b1-9002-6c38a3c658ff"
   },
   "source": [
    "## Below VS Above comparision"
   ]
  },
  {
   "cell_type": "code",
   "execution_count": 20,
   "id": "6c95789f",
   "metadata": {},
   "outputs": [],
   "source": [
    "data_below = data[(data['goal'] == 'below')]\n",
    "data_above = data[(data['goal'] == 'above')]"
   ]
  },
  {
   "cell_type": "code",
   "execution_count": 21,
   "id": "30a8a28f",
   "metadata": {},
   "outputs": [
    {
     "data": {
      "text/html": [
       "<div>\n",
       "<style scoped>\n",
       "    .dataframe tbody tr th:only-of-type {\n",
       "        vertical-align: middle;\n",
       "    }\n",
       "\n",
       "    .dataframe tbody tr th {\n",
       "        vertical-align: top;\n",
       "    }\n",
       "\n",
       "    .dataframe thead th {\n",
       "        text-align: right;\n",
       "    }\n",
       "</style>\n",
       "<table border=\"1\" class=\"dataframe\">\n",
       "  <thead>\n",
       "    <tr style=\"text-align: right;\">\n",
       "      <th></th>\n",
       "      <th>spend_x</th>\n",
       "      <th>spend_y</th>\n",
       "      <th>total_spend</th>\n",
       "      <th>spend_x_per</th>\n",
       "      <th>spend_y_per</th>\n",
       "    </tr>\n",
       "  </thead>\n",
       "  <tbody>\n",
       "    <tr>\n",
       "      <th>0</th>\n",
       "      <td>660.0</td>\n",
       "      <td>1003.0</td>\n",
       "      <td>1663.0</td>\n",
       "      <td>39.687312</td>\n",
       "      <td>60.312688</td>\n",
       "    </tr>\n",
       "    <tr>\n",
       "      <th>1</th>\n",
       "      <td>184.0</td>\n",
       "      <td>1221.0</td>\n",
       "      <td>1405.0</td>\n",
       "      <td>13.096085</td>\n",
       "      <td>86.903915</td>\n",
       "    </tr>\n",
       "    <tr>\n",
       "      <th>2</th>\n",
       "      <td>243.0</td>\n",
       "      <td>1325.0</td>\n",
       "      <td>1568.0</td>\n",
       "      <td>15.497449</td>\n",
       "      <td>84.502551</td>\n",
       "    </tr>\n",
       "    <tr>\n",
       "      <th>3</th>\n",
       "      <td>102.0</td>\n",
       "      <td>731.0</td>\n",
       "      <td>833.0</td>\n",
       "      <td>12.244898</td>\n",
       "      <td>87.755102</td>\n",
       "    </tr>\n",
       "    <tr>\n",
       "      <th>4</th>\n",
       "      <td>178.0</td>\n",
       "      <td>560.0</td>\n",
       "      <td>738.0</td>\n",
       "      <td>24.119241</td>\n",
       "      <td>75.880759</td>\n",
       "    </tr>\n",
       "  </tbody>\n",
       "</table>\n",
       "</div>"
      ],
      "text/plain": [
       "   spend_x  spend_y  total_spend  spend_x_per  spend_y_per\n",
       "0    660.0   1003.0       1663.0    39.687312    60.312688\n",
       "1    184.0   1221.0       1405.0    13.096085    86.903915\n",
       "2    243.0   1325.0       1568.0    15.497449    84.502551\n",
       "3    102.0    731.0        833.0    12.244898    87.755102\n",
       "4    178.0    560.0        738.0    24.119241    75.880759"
      ]
     },
     "execution_count": 21,
     "metadata": {},
     "output_type": "execute_result"
    }
   ],
   "source": [
    "res1 = pd.merge(data_below, data_above, on='date')\n",
    "res1 = res1[['spend_x','spend_y']]\n",
    "res1['total_spend'] = res1['spend_x'] + res1['spend_y']\n",
    "res1['spend_x_per'] = res1['spend_x'] / res1['total_spend'] * 100\n",
    "res1['spend_y_per'] = res1['spend_y'] / res1['total_spend'] * 100\n",
    "\n",
    "\n",
    "res1.head()"
   ]
  },
  {
   "cell_type": "code",
   "execution_count": 22,
   "id": "16a71826",
   "metadata": {},
   "outputs": [
    {
     "data": {
      "text/html": [
       "<div>\n",
       "<style scoped>\n",
       "    .dataframe tbody tr th:only-of-type {\n",
       "        vertical-align: middle;\n",
       "    }\n",
       "\n",
       "    .dataframe tbody tr th {\n",
       "        vertical-align: top;\n",
       "    }\n",
       "\n",
       "    .dataframe thead th {\n",
       "        text-align: right;\n",
       "    }\n",
       "</style>\n",
       "<table border=\"1\" class=\"dataframe\">\n",
       "  <thead>\n",
       "    <tr style=\"text-align: right;\">\n",
       "      <th></th>\n",
       "      <th>spend_x_per</th>\n",
       "      <th>spend_y_per</th>\n",
       "    </tr>\n",
       "  </thead>\n",
       "  <tbody>\n",
       "    <tr>\n",
       "      <th>count</th>\n",
       "      <td>26.000000</td>\n",
       "      <td>26.000000</td>\n",
       "    </tr>\n",
       "    <tr>\n",
       "      <th>mean</th>\n",
       "      <td>34.924600</td>\n",
       "      <td>65.075400</td>\n",
       "    </tr>\n",
       "    <tr>\n",
       "      <th>std</th>\n",
       "      <td>13.991633</td>\n",
       "      <td>13.991633</td>\n",
       "    </tr>\n",
       "    <tr>\n",
       "      <th>min</th>\n",
       "      <td>12.244898</td>\n",
       "      <td>39.457831</td>\n",
       "    </tr>\n",
       "    <tr>\n",
       "      <th>25%</th>\n",
       "      <td>24.473833</td>\n",
       "      <td>57.175019</td>\n",
       "    </tr>\n",
       "    <tr>\n",
       "      <th>50%</th>\n",
       "      <td>34.322352</td>\n",
       "      <td>65.677648</td>\n",
       "    </tr>\n",
       "    <tr>\n",
       "      <th>75%</th>\n",
       "      <td>42.824981</td>\n",
       "      <td>75.526167</td>\n",
       "    </tr>\n",
       "    <tr>\n",
       "      <th>max</th>\n",
       "      <td>60.542169</td>\n",
       "      <td>87.755102</td>\n",
       "    </tr>\n",
       "  </tbody>\n",
       "</table>\n",
       "</div>"
      ],
      "text/plain": [
       "       spend_x_per  spend_y_per\n",
       "count    26.000000    26.000000\n",
       "mean     34.924600    65.075400\n",
       "std      13.991633    13.991633\n",
       "min      12.244898    39.457831\n",
       "25%      24.473833    57.175019\n",
       "50%      34.322352    65.677648\n",
       "75%      42.824981    75.526167\n",
       "max      60.542169    87.755102"
      ]
     },
     "execution_count": 22,
     "metadata": {},
     "output_type": "execute_result"
    }
   ],
   "source": [
    "res1[['spend_x_per','spend_y_per']].describe()"
   ]
  },
  {
   "cell_type": "code",
   "execution_count": 23,
   "id": "30f13b6e",
   "metadata": {},
   "outputs": [],
   "source": [
    "spend_x = np.array(res1['spend_x_per'])\n",
    "spend_x = [x for x in spend_x if str(x) != 'nan']\n",
    "spend_y = np.array(res1['spend_y_per'])\n",
    "spend_y = [x for x in spend_y if str(x) != 'nan']"
   ]
  },
  {
   "cell_type": "code",
   "execution_count": 24,
   "id": "fa45db63",
   "metadata": {},
   "outputs": [
    {
     "name": "stderr",
     "output_type": "stream",
     "text": [
      "/opt/anaconda3/lib/python3.8/site-packages/seaborn/distributions.py:2557: FutureWarning: `distplot` is a deprecated function and will be removed in a future version. Please adapt your code to use either `displot` (a figure-level function with similar flexibility) or `histplot` (an axes-level function for histograms).\n",
      "  warnings.warn(msg, FutureWarning)\n"
     ]
    },
    {
     "data": {
      "text/plain": [
       "<function matplotlib.pyplot.figure(num=None, figsize=None, dpi=None, facecolor=None, edgecolor=None, frameon=True, FigureClass=<class 'matplotlib.figure.Figure'>, clear=False, **kwargs)>"
      ]
     },
     "execution_count": 24,
     "metadata": {},
     "output_type": "execute_result"
    },
    {
     "data": {
      "image/png": "[encoded data removed]",
      "text/plain": [
       "<Figure size 432x288 with 1 Axes>"
      ]
     },
     "metadata": {
      "needs_background": "light"
     },
     "output_type": "display_data"
    }
   ],
   "source": [
    "plot_distribution(np.array(spend_x))"
   ]
  },
  {
   "cell_type": "code",
   "execution_count": 25,
   "id": "8be8fc70",
   "metadata": {},
   "outputs": [
    {
     "name": "stderr",
     "output_type": "stream",
     "text": [
      "/opt/anaconda3/lib/python3.8/site-packages/seaborn/distributions.py:2557: FutureWarning: `distplot` is a deprecated function and will be removed in a future version. Please adapt your code to use either `displot` (a figure-level function with similar flexibility) or `histplot` (an axes-level function for histograms).\n",
      "  warnings.warn(msg, FutureWarning)\n"
     ]
    },
    {
     "data": {
      "text/plain": [
       "<function matplotlib.pyplot.figure(num=None, figsize=None, dpi=None, facecolor=None, edgecolor=None, frameon=True, FigureClass=<class 'matplotlib.figure.Figure'>, clear=False, **kwargs)>"
      ]
     },
     "execution_count": 25,
     "metadata": {},
     "output_type": "execute_result"
    },
    {
     "data": {
      "image/png": "[encoded data removed]",
      "text/plain": [
       "<Figure size 432x288 with 1 Axes>"
      ]
     },
     "metadata": {
      "needs_background": "light"
     },
     "output_type": "display_data"
    }
   ],
   "source": [
    "plot_distribution(np.array(spend_y))"
   ]
  },
  {
   "cell_type": "code",
   "execution_count": 26,
   "id": "97134e83",
   "metadata": {},
   "outputs": [
    {
     "name": "stderr",
     "output_type": "stream",
     "text": [
      "/opt/anaconda3/lib/python3.8/site-packages/seaborn/distributions.py:2557: FutureWarning: `distplot` is a deprecated function and will be removed in a future version. Please adapt your code to use either `displot` (a figure-level function with similar flexibility) or `histplot` (an axes-level function for histograms).\n",
      "  warnings.warn(msg, FutureWarning)\n",
      "/opt/anaconda3/lib/python3.8/site-packages/seaborn/distributions.py:2557: FutureWarning: `distplot` is a deprecated function and will be removed in a future version. Please adapt your code to use either `displot` (a figure-level function with similar flexibility) or `histplot` (an axes-level function for histograms).\n",
      "  warnings.warn(msg, FutureWarning)\n"
     ]
    },
    {
     "data": {
      "text/plain": [
       "<matplotlib.lines.Line2D at 0x7faaa8bd4430>"
      ]
     },
     "execution_count": 26,
     "metadata": {},
     "output_type": "execute_result"
    },
    {
     "data": {
      "image/png": "[encoded data removed]",
      "text/plain": [
       "<Figure size 432x288 with 1 Axes>"
      ]
     },
     "metadata": {
      "needs_background": "light"
     },
     "output_type": "display_data"
    }
   ],
   "source": [
    "plt.figure()\n",
    "ax1 = sns.distplot(spend_x)\n",
    "ax2 = sns.distplot(spend_y)\n",
    "plt.axvline(np.mean(spend_x),color = 'b', linestyle='dashed',linewidth=5)\n",
    "plt.axvline(np.mean(spend_y),color = 'orange', linestyle='dashed',linewidth=5)"
   ]
  },
  {
   "cell_type": "code",
   "execution_count": 27,
   "id": "2118b637",
   "metadata": {},
   "outputs": [
    {
     "name": "stdout",
     "output_type": "stream",
     "text": [
      "[13, 33, 13, 34, 13, 19, 24, 28, 39, 24, 24, 55, 43, 43, 24]\n",
      "[50, 86, 74, 84, 86, 71, 39, 43, 56, 45, 66, 66, 59, 75, 56]\n",
      "Statistic: -6.805647580911657\n",
      "p_value: 0.9999998921688243\n",
      "Alternate Accepted\n",
      "Percent_Mean spend on performing campaigns is greater by Budget_Rebalance\n"
     ]
    }
   ],
   "source": [
    "sample_size = 15\n",
    "previous_sample = np.random.choice(np.array(spend_x),sample_size)\n",
    "previous_sample = [int(i) for i in previous_sample]\n",
    "print(previous_sample)\n",
    "next_sample = np.random.choice(np.array(spend_y),sample_size)\n",
    "next_sample = [int(i) for i in next_sample]\n",
    "print(next_sample)\n",
    "compare(previous_sample,next_sample,0.05,sample_size)"
   ]
  },
  {
   "cell_type": "code",
   "execution_count": null,
   "id": "773f7500",
   "metadata": {},
   "outputs": [],
   "source": []
  }
 ],
 "metadata": {
  "accelerator": "GPU",
  "colab": {
   "collapsed_sections": [],
   "name": "ALGORITHM_hypothesis_testing.ipynb",
   "provenance": []
  },
  "kernelspec": {
   "display_name": "Python 3",
   "language": "python",
   "name": "python3"
  },
  "language_info": {
   "codemirror_mode": {
    "name": "ipython",
    "version": 3
   },
   "file_extension": ".py",
   "mimetype": "text/x-python",
   "name": "python",
   "nbconvert_exporter": "python",
   "pygments_lexer": "ipython3",
   "version": "3.8.8"
  }
 },
 "nbformat": 4,
 "nbformat_minor": 5
}
